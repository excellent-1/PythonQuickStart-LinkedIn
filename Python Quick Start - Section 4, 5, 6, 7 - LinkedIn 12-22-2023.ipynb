{
 "cells": [
  {
   "cell_type": "code",
   "execution_count": 17,
   "id": "209af157",
   "metadata": {},
   "outputs": [],
   "source": [
    "import math"
   ]
  },
  {
   "cell_type": "code",
   "execution_count": 18,
   "id": "dd6ca684",
   "metadata": {},
   "outputs": [],
   "source": [
    "result = math.sqrt(49)"
   ]
  },
  {
   "cell_type": "code",
   "execution_count": 19,
   "id": "8b3f7115",
   "metadata": {},
   "outputs": [
    {
     "name": "stdout",
     "output_type": "stream",
     "text": [
      "7.0\n"
     ]
    }
   ],
   "source": [
    "print(result)"
   ]
  },
  {
   "cell_type": "code",
   "execution_count": 20,
   "id": "f582dddf",
   "metadata": {},
   "outputs": [],
   "source": [
    "name=\"Brad\""
   ]
  },
  {
   "cell_type": "code",
   "execution_count": 21,
   "id": "2f960068",
   "metadata": {},
   "outputs": [],
   "source": [
    "group = [\"Matthew\", \"Mark\", \"Luke\"]"
   ]
  },
  {
   "cell_type": "code",
   "execution_count": 22,
   "id": "75d6c6a4",
   "metadata": {},
   "outputs": [
    {
     "data": {
      "text/plain": [
       "list"
      ]
     },
     "execution_count": 22,
     "metadata": {},
     "output_type": "execute_result"
    }
   ],
   "source": [
    "type(group)"
   ]
  },
  {
   "cell_type": "code",
   "execution_count": 23,
   "id": "9838b037",
   "metadata": {},
   "outputs": [],
   "source": [
    "n=5"
   ]
  },
  {
   "cell_type": "code",
   "execution_count": 24,
   "id": "db5bc324",
   "metadata": {},
   "outputs": [],
   "source": [
    "list1 = [1,3,5,7,9,11,14,16,18]"
   ]
  },
  {
   "cell_type": "code",
   "execution_count": 25,
   "id": "cebd59eb",
   "metadata": {},
   "outputs": [
    {
     "data": {
      "text/plain": [
       "list"
      ]
     },
     "execution_count": 25,
     "metadata": {},
     "output_type": "execute_result"
    }
   ],
   "source": [
    "type(list1)"
   ]
  },
  {
   "cell_type": "code",
   "execution_count": 26,
   "id": "bb8e37ca",
   "metadata": {},
   "outputs": [
    {
     "name": "stdout",
     "output_type": "stream",
     "text": [
      "1\n",
      "3\n",
      "5\n"
     ]
    }
   ],
   "source": [
    "print(list1[0])\n",
    "print(list1[1])\n",
    "print(list1[2])\n"
   ]
  },
  {
   "cell_type": "code",
   "execution_count": 28,
   "id": "f2a637b5",
   "metadata": {},
   "outputs": [
    {
     "name": "stdout",
     "output_type": "stream",
     "text": [
      "150\n",
      "3\n",
      "5\n",
      "[150, 3, 5, 7, 9, 11, 14, 16, 18]\n"
     ]
    }
   ],
   "source": [
    "list1[0] = 150\n",
    "print(list1[0])\n",
    "print(list1[1])\n",
    "print(list1[2])\n",
    "print(list1)"
   ]
  },
  {
   "cell_type": "code",
   "execution_count": 29,
   "id": "f24188c8",
   "metadata": {},
   "outputs": [
    {
     "name": "stdout",
     "output_type": "stream",
     "text": [
      "[True, 'sonship', 55, 33.3, False, -44.4]\n"
     ]
    }
   ],
   "source": [
    "list2 = [True, \"sonship\", 55, 33.3, False, -44.4]\n",
    "print(list2)"
   ]
  },
  {
   "cell_type": "code",
   "execution_count": 38,
   "id": "e0977b23",
   "metadata": {},
   "outputs": [
    {
     "name": "stdout",
     "output_type": "stream",
     "text": [
      "('Julia', 'Texas Childrens Hospital', 'Fort Worth', 'Texas', 'United States', '05/05/2015', '12:12')\n",
      "('Judah', 'Texas Childrens Hospital', 'Fort Worth', 'Texas', 'United States', '03/03/2023', '23:23')\n",
      "('Joshua', 'Texas Childrens Hospital', 'Fort Worth', 'Texas', 'United States', '02/22/2022', '22:22')\n",
      "Julia\n",
      "Judah\n",
      "Joshua\n"
     ]
    }
   ],
   "source": [
    "tupleBirth1 = (\"Julia\", \"Texas Childrens Hospital\", \"Fort Worth\", \"Texas\", \"United States\", \"05/05/2015\", \"12:12\")\n",
    "tupleBirth2 = (\"Judah\", \"Texas Childrens Hospital\", \"Fort Worth\", \"Texas\", \"United States\", \"03/03/2023\", \"23:23\")\n",
    "tupleBirth3 = (\"Joshua\", \"Texas Childrens Hospital\", \"Fort Worth\", \"Texas\", \"United States\", \"02/22/2022\", \"22:22\")\n",
    "type(tupleBirth1)\n",
    "print(tupleBirth1) \n",
    "print(tupleBirth2) \n",
    "print(tupleBirth3) \n",
    "print(tupleBirth1[0]) \n",
    "print(tupleBirth2[0]) \n",
    "print(tupleBirth3[0]) "
   ]
  },
  {
   "cell_type": "code",
   "execution_count": 39,
   "id": "4caa4775",
   "metadata": {},
   "outputs": [
    {
     "ename": "TypeError",
     "evalue": "'tuple' object does not support item assignment",
     "output_type": "error",
     "traceback": [
      "\u001b[0;31m---------------------------------------------------------------------------\u001b[0m",
      "\u001b[0;31mTypeError\u001b[0m                                 Traceback (most recent call last)",
      "Cell \u001b[0;32mIn[39], line 1\u001b[0m\n\u001b[0;32m----> 1\u001b[0m \u001b[43mtupleBirth1\u001b[49m\u001b[43m[\u001b[49m\u001b[38;5;241;43m0\u001b[39;49m\u001b[43m]\u001b[49m\u001b[38;5;241m=\u001b[39m\u001b[38;5;124m\"\u001b[39m\u001b[38;5;124mJehovah\u001b[39m\u001b[38;5;124m\"\u001b[39m\n",
      "\u001b[0;31mTypeError\u001b[0m: 'tuple' object does not support item assignment"
     ]
    }
   ],
   "source": [
    "tupleBirth1[0]=\"Jehovah\""
   ]
  },
  {
   "cell_type": "code",
   "execution_count": null,
   "id": "2ffe7baf",
   "metadata": {},
   "outputs": [],
   "source": [
    "print(\"SECTION 5\")"
   ]
  },
  {
   "cell_type": "code",
   "execution_count": 41,
   "id": "80465c26",
   "metadata": {},
   "outputs": [
    {
     "name": "stdout",
     "output_type": "stream",
     "text": [
      "Is it raining? (yes/no)yes\n",
      "You need an umbrella!\n"
     ]
    }
   ],
   "source": [
    "raining = input(\"Is it raining? (yes/no)\")\n",
    "if raining == \"yes\":\n",
    "    print(\"You need an umbrella!\")"
   ]
  },
  {
   "cell_type": "code",
   "execution_count": 47,
   "id": "609f23f1",
   "metadata": {},
   "outputs": [
    {
     "name": "stdout",
     "output_type": "stream",
     "text": [
      "Choose an integer between -10 and 10. Enter it here: 7\n",
      "The integer you chose is greater than 5\n"
     ]
    }
   ],
   "source": [
    "n = input(\"Choose an integer between -10 and 10. Enter it here: \")\n",
    "n = int(n)\n",
    "if n < 5:\n",
    "    print(\"The integer you chose is less than 5\")\n",
    "if n == 5:\n",
    "    print(\"The integer you chose is equal to 5\")\n",
    "if n > 5: \n",
    "    print(\"The integer you chose is greater than 5\")"
   ]
  },
  {
   "cell_type": "code",
   "execution_count": 49,
   "id": "8fee71d1",
   "metadata": {},
   "outputs": [],
   "source": [
    "def minimum(x,y):\n",
    "    if x < y:\n",
    "        return x\n",
    "    else:\n",
    "        return y"
   ]
  },
  {
   "cell_type": "code",
   "execution_count": 50,
   "id": "722f8312",
   "metadata": {},
   "outputs": [
    {
     "name": "stdout",
     "output_type": "stream",
     "text": [
      "2\n"
     ]
    }
   ],
   "source": [
    "result = minimum(2,5) # call the function\n",
    "print(result)"
   ]
  },
  {
   "cell_type": "code",
   "execution_count": 51,
   "id": "85a2ba9b",
   "metadata": {},
   "outputs": [
    {
     "name": "stdout",
     "output_type": "stream",
     "text": [
      "Is it raining? (yes/no)yes\n",
      "Do you have an umbrella? (yes/no)yes\n",
      "Don't forget your umbrella when you go out!\n"
     ]
    }
   ],
   "source": [
    "raining = input(\"Is it raining? (yes/no) \")\n",
    "umbrella = input(\"Do you have an umbrella? (yes/no) \")\n",
    "if raining == \"yes\" and umbrella == \"yes\" :\n",
    "    print(\"Don't forget your umbrella when you go out!\")\n",
    "elif raining == \"yes\" and umbrella == \"no\" :\n",
    "    print(\"Wear a waterproof jacket when you go out!\")"
   ]
  },
  {
   "cell_type": "code",
   "execution_count": 54,
   "id": "4f59c159",
   "metadata": {},
   "outputs": [
    {
     "name": "stdout",
     "output_type": "stream",
     "text": [
      "Enter a number here: 1.2\n",
      "The integer you chose is less than 2. \n"
     ]
    }
   ],
   "source": [
    "x = input(\"Enter a number here: \")\n",
    "x = float(x) # To list one print\n",
    "if x < 2:\n",
    "    print(\"The integer you chose is less than 2. \")\n",
    "elif x < 6:\n",
    "    print(\"The integer you chose is less than 6. \")\n",
    "elif x < 8:\n",
    "    print(\"The integer you chose is gless than 8. \")\n",
    "elif x < 10: \n",
    "    print(\"The integer you chose is less than 10. \")\n"
   ]
  },
  {
   "cell_type": "code",
   "execution_count": null,
   "id": "19f0e1fc",
   "metadata": {},
   "outputs": [],
   "source": [
    "x = input(\"Enter a number here: \")\n",
    "x = float(x) # To list all prints that apply\n",
    "if x < 2:\n",
    "    print(\"The integer you chose is less than 2. \")\n",
    "if x < 6:\n",
    "    print(\"The integer you chose is less than 6. \")\n",
    "if x < 8:\n",
    "    print(\"The integer you chose is gless than 8. \")\n",
    "if x < 10: \n",
    "    print(\"The integer you chose is less than 10. \")"
   ]
  },
  {
   "cell_type": "code",
   "execution_count": 55,
   "id": "3d53cd5e",
   "metadata": {},
   "outputs": [],
   "source": [
    "def absVal(num):\n",
    "    if num < 0:\n",
    "        return -num\n",
    "    elif num ==0:\n",
    "        return 0\n",
    "    else:\n",
    "        return num"
   ]
  },
  {
   "cell_type": "code",
   "execution_count": 56,
   "id": "fabd6b12",
   "metadata": {},
   "outputs": [
    {
     "name": "stdout",
     "output_type": "stream",
     "text": [
      "4\n"
     ]
    }
   ],
   "source": [
    "result = absVal(-4)\n",
    "print(result)"
   ]
  },
  {
   "cell_type": "code",
   "execution_count": null,
   "id": "b00cdb57",
   "metadata": {},
   "outputs": [],
   "source": [
    "What happens inside a program when a conditional statement is used?\n",
    "\n",
    "The control flows to another part of the program.\n",
    "\n",
    "Correct\n",
    "\n",
    "A conditional statement controls the flow of a program by testing whether a specific condition is met.\n",
    "\n",
    "When is it appropriate to use an if-else statement?\n",
    "\n",
    "when a condition needs to select between two code blocks\n",
    "\n",
    "Correct\n",
    "\n",
    "An `if-else` statement selects between two given code blocks."
   ]
  },
  {
   "cell_type": "code",
   "execution_count": null,
   "id": "f798aa0f",
   "metadata": {},
   "outputs": [],
   "source": [
    "print(\"SECTION 6\")"
   ]
  },
  {
   "cell_type": "code",
   "execution_count": 59,
   "id": "1c15f55e",
   "metadata": {},
   "outputs": [
    {
     "name": "stdout",
     "output_type": "stream",
     "text": [
      "6\n"
     ]
    }
   ],
   "source": [
    "word = \"serendipitous\"\n",
    "vowelCount = 0\n",
    "vowels = [\"a\",\"e\",\"i\",\"o\",\"u\"]\n",
    "for char in word:\n",
    "    if char in vowels:\n",
    "        vowelCount += 1\n",
    "print(vowelCount)"
   ]
  },
  {
   "cell_type": "code",
   "execution_count": 64,
   "id": "b4ef13ea",
   "metadata": {},
   "outputs": [
    {
     "name": "stdout",
     "output_type": "stream",
     "text": [
      "0\n",
      "1\n",
      "2\n",
      "3\n",
      "---------\n",
      "1\n",
      "3\n",
      "5\n",
      "7\n"
     ]
    }
   ],
   "source": [
    "#range(start, stop, step size=1)\n",
    "for i in range(4):\n",
    "    print(i)\n",
    "    \n",
    "print(\"---------\")\n",
    "\n",
    "for i in range(1,8,2):\n",
    "    print(i)"
   ]
  },
  {
   "cell_type": "code",
   "execution_count": 67,
   "id": "8e7643b0",
   "metadata": {},
   "outputs": [
    {
     "name": "stdout",
     "output_type": "stream",
     "text": [
      "5\n",
      "---------\n",
      "a\n",
      "e\n",
      "i\n",
      "o\n",
      "u\n"
     ]
    }
   ],
   "source": [
    "word = \"serendipitous\"\n",
    "vowelCount = 0\n",
    "vowels = [\"a\",\"e\",\"i\",\"o\",\"u\"]\n",
    "length = len(vowels)\n",
    "for char in word:\n",
    "    if char in vowels:\n",
    "        vowelCount += 1\n",
    "print(length)\n",
    "print(\"---------\")\n",
    "i = 0\n",
    "while i < len(vowels):\n",
    "    print(vowels[i])\n",
    "    i += 1"
   ]
  },
  {
   "cell_type": "code",
   "execution_count": null,
   "id": "0bb055ec",
   "metadata": {},
   "outputs": [],
   "source": [
    "Which situation would work best with a for loop?\n",
    "\n",
    "counting from 1 to 100\n",
    "\n",
    "Correct\n",
    "\n",
    "A `for` loop is appropriate when the starting and ending conditions are defined.\n",
    "\n"
   ]
  },
  {
   "cell_type": "code",
   "execution_count": 71,
   "id": "d6bccb29",
   "metadata": {},
   "outputs": [
    {
     "name": "stdout",
     "output_type": "stream",
     "text": [
      "SECTION 7\n"
     ]
    }
   ],
   "source": [
    "print(\"SECTION 7\")"
   ]
  },
  {
   "cell_type": "code",
   "execution_count": 72,
   "id": "13209f6e",
   "metadata": {},
   "outputs": [],
   "source": [
    "def factorialRecursive(n):\n",
    "    \"\"\"Return the factorial of positive integer n.\"\"\"\n",
    "    if n== 1:\n",
    "        return 1\n",
    "    else:\n",
    "        return n * factorialRecursive(n - 1)"
   ]
  },
  {
   "cell_type": "code",
   "execution_count": 73,
   "id": "8e75baba",
   "metadata": {
    "scrolled": true
   },
   "outputs": [
    {
     "name": "stdout",
     "output_type": "stream",
     "text": [
      "120\n"
     ]
    }
   ],
   "source": [
    "result = factorialRecursive(5)\n",
    "print(result)"
   ]
  },
  {
   "cell_type": "code",
   "execution_count": 74,
   "id": "e3282399",
   "metadata": {},
   "outputs": [],
   "source": [
    "def sumOfDigitsRecursive(n):\n",
    "    \"\"\"Return the sum of the digits of positive integer n.\"\"\"\n",
    "    if n < 10:\n",
    "        return n\n",
    "    else:\n",
    "        allButLast = n//10 \n",
    "        # In Python 3.x, 5 / 2 will return 2.5 and 5 // 2 will return 2. The former is floating point division, \n",
    "        # and the latter is floor division, sometimes also called integer division.\n",
    "        # floor division, which basically is division rounded down to the nearest whole number\n",
    "        last = n % 10\n",
    "        return sumOfDigitsRecursive(allButLast) + last"
   ]
  },
  {
   "cell_type": "code",
   "execution_count": 75,
   "id": "068c3637",
   "metadata": {},
   "outputs": [
    {
     "name": "stdout",
     "output_type": "stream",
     "text": [
      "5\n"
     ]
    }
   ],
   "source": [
    "result = sumOfDigitsRecursive(5)\n",
    "print(result)"
   ]
  },
  {
   "cell_type": "code",
   "execution_count": 77,
   "id": "abc0cd79",
   "metadata": {},
   "outputs": [],
   "source": [
    "def fibonacciSequenceRecursive(n):\n",
    "    \"\"\"Return the sum of the number in the Fibonacci sequence.\"\"\"\n",
    "    if n == 1:\n",
    "        return 0\n",
    "    elif n == 2:\n",
    "        return 1\n",
    "    else:\n",
    "        return fibonacciSequenceRecursive(n-1) + fibonacciSequenceRecursive(n-2)"
   ]
  },
  {
   "cell_type": "code",
   "execution_count": 78,
   "id": "14d553a8",
   "metadata": {},
   "outputs": [
    {
     "name": "stdout",
     "output_type": "stream",
     "text": [
      "3\n"
     ]
    }
   ],
   "source": [
    "result = fibonacciSequenceRecursive(5)\n",
    "print(result)"
   ]
  },
  {
   "cell_type": "code",
   "execution_count": null,
   "id": "5a2bb99c",
   "metadata": {},
   "outputs": [],
   "source": [
    "def isPalindromeRecursive(strg):\n",
    "    \"\"\"Return the sum of the number in the Fibonacci sequence.\"\"\"\n",
    "    if len(strg) <= 1:\n",
    "        return True\n",
    "    elif n == 2:\n",
    "        return strg[0] == strg[-1] and isPalindromeRecursive(strg[1 : -1]) # substring starts with 1st char and ends with 2nd to last char"
   ]
  },
  {
   "cell_type": "code",
   "execution_count": null,
   "id": "0a48c090",
   "metadata": {},
   "outputs": [],
   "source": [
    "result = fibonacciSequenceRecursive(5)\n",
    "print(result)"
   ]
  },
  {
   "cell_type": "code",
   "execution_count": null,
   "id": "a4242b78",
   "metadata": {},
   "outputs": [],
   "source": [
    "print(\"SECTION 8\")"
   ]
  },
  {
   "cell_type": "code",
   "execution_count": 146,
   "id": "e271cdd4",
   "metadata": {},
   "outputs": [],
   "source": [
    "class Angel():\n",
    "    def __init__(self, name, rank):\n",
    "        self.name = name\n",
    "        self.rank = rank\n",
    "\n",
    "    def power(self, name, rank):\n",
    "        if self.rank == 1:\n",
    "            print(self.name , \"'s power is strength and might to prevail in battle.\")\n",
    "        if self.rank == 2:\n",
    "            print(self.name + \"'s power is to deliver important messages.\")\n",
    "        if self.rank == 3:\n",
    "            print(self.name + \"'s power is to teach you in areas where you lack knowledge.\")\n",
    "        if self.rank == 4:\n",
    "            print(self.name + \"'s power is to release miracles through fire.\")\n",
    "        if self.rank == 5:\n",
    "            print(self.name + \"'s power is to give healing in your body soul and spirit.\")\n",
    "        if self.rank == 6:\n",
    "            print(self.name + \"'s power is to give helps in everyday life where needed.\")\n",
    "        if self.rank == 7:\n",
    "            print(self.name + \"'s power is apart of the government structure to keep order.\")\n",
    "\n",
    "class HealerAngel(Angel):\n",
    "    def __int__(self, name, rank, color, count):\n",
    "        self.name = name\n",
    "        self.rank = rank\n",
    "        self.color = color\n",
    "        self.count = count\n",
    "        \n",
    "    def power(self, name, rank, manner=\"gracefully\"):\n",
    "        print(f\"{self.name} is healing in your body soul and spirit {manner}.\")"
   ]
  },
  {
   "cell_type": "code",
   "execution_count": 149,
   "id": "0ec1d445",
   "metadata": {},
   "outputs": [
    {
     "name": "stdout",
     "output_type": "stream",
     "text": [
      "Michael 's power is strength and might to prevail in battle.\n",
      "Gabriel's power is to deliver important messages.\n",
      "Jophiel's power is to teach you in areas where you lack knowledge.\n",
      "Uriel's power is to release miracles through fire.\n",
      "Rafael's power is to give healing in your body soul and spirit.\n",
      "Raforiel is healing in your body soul and spirit gracefully.\n",
      "Chamuel's power is to give helps in everyday life where needed.\n",
      "Zadkiel's power is apart of the government structure to keep order.\n"
     ]
    }
   ],
   "source": [
    "# Michael, Gabriel, Uriel, Chamuel (Camael), Raphael, Jophiel, and Zadkiel\n",
    "michael = Angel(\"Michael\", 1) \n",
    "michael.power(michael.name, michael.rank) \n",
    "gabriel = Angel(\"Gabriel\", 2)\n",
    "gabriel.power(gabriel.name, gabriel.rank) \n",
    "jophiel = Angel(\"Jophiel\", 3)\n",
    "jophiel.power(jophiel.name, jophiel.rank) \n",
    "uriel = Angel(\"Uriel\", 4)\n",
    "uriel.power(uriel.name, uriel.rank) \n",
    "rafael = Angel(\"Rafael\", 5)\n",
    "rafael.power(rafael.name, rafael.rank) \n",
    "healerAngel = HealerAngel(\"Raforiel\", 5)\n",
    "healerAngel.power(healerAngel.name, healerAngel.rank) \n",
    "chamuel = Angel(\"Chamuel\", 6)\n",
    "chamuel.power(chamuel.name, chamuel.rank) \n",
    "zadkiel = Angel(\"Zadkiel\", 7)\n",
    "zadkiel.power(zadkiel.name, zadkiel.rank) "
   ]
  },
  {
   "cell_type": "code",
   "execution_count": null,
   "id": "553aa4be",
   "metadata": {},
   "outputs": [],
   "source": []
  },
  {
   "cell_type": "code",
   "execution_count": null,
   "id": "6ab0c77a",
   "metadata": {},
   "outputs": [],
   "source": []
  },
  {
   "cell_type": "code",
   "execution_count": null,
   "id": "47f13586",
   "metadata": {},
   "outputs": [],
   "source": []
  },
  {
   "cell_type": "code",
   "execution_count": null,
   "id": "1d3280bb",
   "metadata": {},
   "outputs": [],
   "source": []
  },
  {
   "cell_type": "code",
   "execution_count": null,
   "id": "5c8f8554",
   "metadata": {},
   "outputs": [],
   "source": []
  },
  {
   "cell_type": "code",
   "execution_count": null,
   "id": "26eddee4",
   "metadata": {},
   "outputs": [],
   "source": []
  },
  {
   "cell_type": "code",
   "execution_count": null,
   "id": "f0505c19",
   "metadata": {},
   "outputs": [],
   "source": []
  }
 ],
 "metadata": {
  "kernelspec": {
   "display_name": "conda_python3",
   "language": "python",
   "name": "conda_python3"
  },
  "language_info": {
   "codemirror_mode": {
    "name": "ipython",
    "version": 3
   },
   "file_extension": ".py",
   "mimetype": "text/x-python",
   "name": "python",
   "nbconvert_exporter": "python",
   "pygments_lexer": "ipython3",
   "version": "3.10.13"
  }
 },
 "nbformat": 4,
 "nbformat_minor": 5
}
