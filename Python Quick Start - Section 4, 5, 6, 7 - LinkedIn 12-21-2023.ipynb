{
 "cells": [
  {
   "cell_type": "code",
   "execution_count": 17,
   "id": "855a2c4d",
   "metadata": {},
   "outputs": [],
   "source": [
    "import math"
   ]
  },
  {
   "cell_type": "code",
   "execution_count": 18,
   "id": "21c1662b",
   "metadata": {},
   "outputs": [],
   "source": [
    "result = math.sqrt(49)"
   ]
  },
  {
   "cell_type": "code",
   "execution_count": 19,
   "id": "e82dae6b",
   "metadata": {},
   "outputs": [
    {
     "name": "stdout",
     "output_type": "stream",
     "text": [
      "7.0\n"
     ]
    }
   ],
   "source": [
    "print(result)"
   ]
  },
  {
   "cell_type": "code",
   "execution_count": 20,
   "id": "86b14a72",
   "metadata": {},
   "outputs": [],
   "source": [
    "name=\"Brad\""
   ]
  },
  {
   "cell_type": "code",
   "execution_count": 21,
   "id": "bf781e53",
   "metadata": {},
   "outputs": [],
   "source": [
    "group = [\"Matthew\", \"Mark\", \"Luke\"]"
   ]
  },
  {
   "cell_type": "code",
   "execution_count": 22,
   "id": "7d29d069",
   "metadata": {},
   "outputs": [
    {
     "data": {
      "text/plain": [
       "list"
      ]
     },
     "execution_count": 22,
     "metadata": {},
     "output_type": "execute_result"
    }
   ],
   "source": [
    "type(group)"
   ]
  },
  {
   "cell_type": "code",
   "execution_count": 23,
   "id": "1f65f91e",
   "metadata": {},
   "outputs": [],
   "source": [
    "n=5"
   ]
  },
  {
   "cell_type": "code",
   "execution_count": 24,
   "id": "caeecf5b",
   "metadata": {},
   "outputs": [],
   "source": [
    "list1 = [1,3,5,7,9,11,14,16,18]"
   ]
  },
  {
   "cell_type": "code",
   "execution_count": 25,
   "id": "4bca137e",
   "metadata": {},
   "outputs": [
    {
     "data": {
      "text/plain": [
       "list"
      ]
     },
     "execution_count": 25,
     "metadata": {},
     "output_type": "execute_result"
    }
   ],
   "source": [
    "type(list1)"
   ]
  },
  {
   "cell_type": "code",
   "execution_count": 26,
   "id": "67ca7dd2",
   "metadata": {},
   "outputs": [
    {
     "name": "stdout",
     "output_type": "stream",
     "text": [
      "1\n",
      "3\n",
      "5\n"
     ]
    }
   ],
   "source": [
    "print(list1[0])\n",
    "print(list1[1])\n",
    "print(list1[2])\n"
   ]
  },
  {
   "cell_type": "code",
   "execution_count": 28,
   "id": "be8a4ecf",
   "metadata": {},
   "outputs": [
    {
     "name": "stdout",
     "output_type": "stream",
     "text": [
      "150\n",
      "3\n",
      "5\n",
      "[150, 3, 5, 7, 9, 11, 14, 16, 18]\n"
     ]
    }
   ],
   "source": [
    "list1[0] = 150\n",
    "print(list1[0])\n",
    "print(list1[1])\n",
    "print(list1[2])\n",
    "print(list1)"
   ]
  },
  {
   "cell_type": "code",
   "execution_count": 29,
   "id": "5d2a93fb",
   "metadata": {},
   "outputs": [
    {
     "name": "stdout",
     "output_type": "stream",
     "text": [
      "[True, 'sonship', 55, 33.3, False, -44.4]\n"
     ]
    }
   ],
   "source": [
    "list2 = [True, \"sonship\", 55, 33.3, False, -44.4]\n",
    "print(list2)"
   ]
  },
  {
   "cell_type": "code",
   "execution_count": 38,
   "id": "c3d90ba4",
   "metadata": {},
   "outputs": [
    {
     "name": "stdout",
     "output_type": "stream",
     "text": [
      "('Julia', 'Texas Childrens Hospital', 'Fort Worth', 'Texas', 'United States', '05/05/2015', '12:12')\n",
      "('Judah', 'Texas Childrens Hospital', 'Fort Worth', 'Texas', 'United States', '03/03/2023', '23:23')\n",
      "('Joshua', 'Texas Childrens Hospital', 'Fort Worth', 'Texas', 'United States', '02/22/2022', '22:22')\n",
      "Julia\n",
      "Judah\n",
      "Joshua\n"
     ]
    }
   ],
   "source": [
    "tupleBirth1 = (\"Julia\", \"Texas Childrens Hospital\", \"Fort Worth\", \"Texas\", \"United States\", \"05/05/2015\", \"12:12\")\n",
    "tupleBirth2 = (\"Judah\", \"Texas Childrens Hospital\", \"Fort Worth\", \"Texas\", \"United States\", \"03/03/2023\", \"23:23\")\n",
    "tupleBirth3 = (\"Joshua\", \"Texas Childrens Hospital\", \"Fort Worth\", \"Texas\", \"United States\", \"02/22/2022\", \"22:22\")\n",
    "type(tupleBirth1)\n",
    "print(tupleBirth1) \n",
    "print(tupleBirth2) \n",
    "print(tupleBirth3) \n",
    "print(tupleBirth1[0]) \n",
    "print(tupleBirth2[0]) \n",
    "print(tupleBirth3[0]) "
   ]
  },
  {
   "cell_type": "code",
   "execution_count": 39,
   "id": "845ef8fd",
   "metadata": {},
   "outputs": [
    {
     "ename": "TypeError",
     "evalue": "'tuple' object does not support item assignment",
     "output_type": "error",
     "traceback": [
      "\u001b[0;31m---------------------------------------------------------------------------\u001b[0m",
      "\u001b[0;31mTypeError\u001b[0m                                 Traceback (most recent call last)",
      "Cell \u001b[0;32mIn[39], line 1\u001b[0m\n\u001b[0;32m----> 1\u001b[0m \u001b[43mtupleBirth1\u001b[49m\u001b[43m[\u001b[49m\u001b[38;5;241;43m0\u001b[39;49m\u001b[43m]\u001b[49m\u001b[38;5;241m=\u001b[39m\u001b[38;5;124m\"\u001b[39m\u001b[38;5;124mJehovah\u001b[39m\u001b[38;5;124m\"\u001b[39m\n",
      "\u001b[0;31mTypeError\u001b[0m: 'tuple' object does not support item assignment"
     ]
    }
   ],
   "source": [
    "tupleBirth1[0]=\"Jehovah\""
   ]
  },
  {
   "cell_type": "code",
   "execution_count": null,
   "id": "b6f65bb1",
   "metadata": {},
   "outputs": [],
   "source": [
    "print(\"SECTION 5\")"
   ]
  },
  {
   "cell_type": "code",
   "execution_count": 41,
   "id": "3b6c3062",
   "metadata": {},
   "outputs": [
    {
     "name": "stdout",
     "output_type": "stream",
     "text": [
      "Is it raining? (yes/no)yes\n",
      "You need an umbrella!\n"
     ]
    }
   ],
   "source": [
    "raining = input(\"Is it raining? (yes/no)\")\n",
    "if raining == \"yes\":\n",
    "    print(\"You need an umbrella!\")"
   ]
  },
  {
   "cell_type": "code",
   "execution_count": 47,
   "id": "5fb2e4b5",
   "metadata": {},
   "outputs": [
    {
     "name": "stdout",
     "output_type": "stream",
     "text": [
      "Choose an integer between -10 and 10. Enter it here: 7\n",
      "The integer you chose is greater than 5\n"
     ]
    }
   ],
   "source": [
    "n = input(\"Choose an integer between -10 and 10. Enter it here: \")\n",
    "n = int(n)\n",
    "if n < 5:\n",
    "    print(\"The integer you chose is less than 5\")\n",
    "if n == 5:\n",
    "    print(\"The integer you chose is equal to 5\")\n",
    "if n > 5: \n",
    "    print(\"The integer you chose is greater than 5\")"
   ]
  },
  {
   "cell_type": "code",
   "execution_count": null,
   "id": "135915ba",
   "metadata": {},
   "outputs": [],
   "source": [
    "def minimum(x,y):\n",
    "    if x < y:\n",
    "        return x\n",
    "    else:\n",
    "        return y"
   ]
  },
  {
   "cell_type": "code",
   "execution_count": null,
   "id": "8d05bd68",
   "metadata": {},
   "outputs": [],
   "source": []
  },
  {
   "cell_type": "code",
   "execution_count": null,
   "id": "9ade0779",
   "metadata": {},
   "outputs": [],
   "source": []
  }
 ],
 "metadata": {
  "kernelspec": {
   "display_name": "conda_python3",
   "language": "python",
   "name": "conda_python3"
  },
  "language_info": {
   "codemirror_mode": {
    "name": "ipython",
    "version": 3
   },
   "file_extension": ".py",
   "mimetype": "text/x-python",
   "name": "python",
   "nbconvert_exporter": "python",
   "pygments_lexer": "ipython3",
   "version": "3.10.13"
  }
 },
 "nbformat": 4,
 "nbformat_minor": 5
}
